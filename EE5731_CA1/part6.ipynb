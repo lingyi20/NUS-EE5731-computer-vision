{
 "cells": [
  {
   "cell_type": "markdown",
   "metadata": {},
   "source": [
    "# Part 6: Advanced Panoramic Image"
   ]
  },
  {
   "cell_type": "code",
   "execution_count": 3,
   "metadata": {},
   "outputs": [],
   "source": [
    "import numpy as np\n",
    "import matplotlib.pyplot as plt\n",
    "import cv2\n",
    "import random"
   ]
  },
  {
   "cell_type": "code",
   "execution_count": 4,
   "metadata": {},
   "outputs": [],
   "source": [
    "im01 = cv2.imread('part1_4/im01.jpg')\n",
    "im01 = cv2.cvtColor(im01, cv2.COLOR_BGR2RGB)\n",
    "im02 = cv2.imread('part1_4/im02.jpg')\n",
    "im02 = cv2.cvtColor(im02, cv2.COLOR_BGR2RGB)\n",
    "im03 = cv2.imread('part1_4/im03.jpg')\n",
    "im03 = cv2.cvtColor(im03, cv2.COLOR_BGR2RGB)"
   ]
  },
  {
   "cell_type": "code",
   "execution_count": 5,
   "metadata": {},
   "outputs": [],
   "source": [
    "# Extract keypoints and descriptors for each image\n",
    "sift = cv2.SIFT_create()\n",
    "\n",
    "im01_gray = cv2.cvtColor(im01, cv2.COLOR_BGR2GRAY)\n",
    "im02_gray = cv2.cvtColor(im02, cv2.COLOR_BGR2GRAY)\n",
    "im03_gray = cv2.cvtColor(im03, cv2.COLOR_BGR2GRAY)\n",
    "\n",
    "kp1, des1 = sift.detectAndCompute(im01_gray, None)\n",
    "kp2, des2 = sift.detectAndCompute(im02_gray, None)\n",
    "kp3, des3 = sift.detectAndCompute(im03_gray, None)\n"
   ]
  },
  {
   "cell_type": "code",
   "execution_count": 6,
   "metadata": {},
   "outputs": [],
   "source": [
    "# find mathches between two images\n",
    "def match(des1, des2):\n",
    "    best1 = np.zeros(des1.shape[0])\n",
    "    best2 = np.zeros(des2.shape[0])\n",
    "\n",
    "    for i in range(des1.shape[0]):\n",
    "        distant = np.zeros(des2.shape[0])\n",
    "        for j in range(des2.shape[0]):\n",
    "            distant[j] = np.sum((des1[i] - des2[j]) ** 2)\n",
    "        best1[i] = int(np.argmin(distant))\n",
    "    \n",
    "    for i in range(des2.shape[0]):\n",
    "        distant = np.zeros(des1.shape[0])\n",
    "        for j in range(des1.shape[0]):\n",
    "            distant[j] = np.sum((des2[i] - des1[j]) ** 2)       \n",
    "        best2[i] = int(np.argmin(distant))\n",
    "    \n",
    "    best1 = best1.astype(int)\n",
    "    best2 = best2.astype(int)\n",
    "\n",
    "    matches = []\n",
    "    for i in range(best1.shape[0]):\n",
    "        m = best1[i]\n",
    "        n = best2[m]\n",
    "        if i == n:\n",
    "            matches.append([n, m])\n",
    "            \n",
    "    return matches"
   ]
  },
  {
   "cell_type": "code",
   "execution_count": 7,
   "metadata": {},
   "outputs": [],
   "source": [
    "def homography(points_1, points_2):\n",
    "    points_1 = np.column_stack((points_1, np.ones(len(points_1))))\n",
    "    points_2 = np.column_stack((points_2, np.ones(len(points_2))))\n",
    "\n",
    "    A = np.zeros((2*len(points_1),9))\n",
    "    for i in range(len(points_1)):\n",
    "        x1, y1, _ = points_1[i]\n",
    "        x2, y2, _ = points_2[i]\n",
    "        A[2*i] = [x1, y1, 1, 0, 0, 0, -x1*x2, -y1*x2, -x2]\n",
    "        A[2*i + 1] = [0, 0, 0, x1, y1, 1, -x1*y2, -y1*y2, -y2]\n",
    "\n",
    "    U, D, V_T = np.linalg.svd(A)\n",
    "    h = V_T[-1]\n",
    "    H = h.reshape((3,3))\n",
    "    H = H / H[2,2]\n",
    "    return H"
   ]
  },
  {
   "cell_type": "code",
   "execution_count": 25,
   "metadata": {},
   "outputs": [],
   "source": [
    "\n",
    "def RANSAC_homography(kp1, kp2, matches, iteration_times):\n",
    "    n = 5\n",
    "    final_H = []\n",
    "    epsion = 2 # threshold of the distance of inliers\n",
    "    N = len(matches)\n",
    "    max_inliers = []\n",
    "    \n",
    "    for k in range(iteration_times):\n",
    "        rdm = random.sample(range(0, N), 5)\n",
    "        points_1 = []\n",
    "        points_2 = []\n",
    "        for j in range(n):\n",
    "            points_1.append([kp1[int(matches[rdm[j]][0])].pt[0], kp1[int(matches[rdm[j]][0])].pt[1]])\n",
    "            points_2.append([kp2[int(matches[rdm[j]][1])].pt[0], kp2[int(matches[rdm[j]][1])].pt[1]])\n",
    "\n",
    "        H = homography(points_1, points_2)\n",
    "        \n",
    "        inliers = []\n",
    "        \n",
    "        for i in range(N):\n",
    "            x1 = kp1[int(matches[i][0])].pt[0]\n",
    "            y1 = kp1[int(matches[i][0])].pt[1]\n",
    "            x2 = kp2[int(matches[i][1])].pt[0]\n",
    "            y2 = kp2[int(matches[i][1])].pt[1]\n",
    "            \n",
    "            hx1, hy1, hz1 = np.dot(H, [x1, y1, 1])\n",
    "            hx1 = int(hx1 / hz1)\n",
    "            hy1 = int(hy1 / hz1)\n",
    "            distance = np.sqrt((x2 - hx1) ** 2 + (y2 - hy1) ** 2)\n",
    "\n",
    "            if distance < epsion:\n",
    "                inliers.append(matches[i])\n",
    "        \n",
    "        if len(inliers) > len(max_inliers):\n",
    "            max_inliers = inliers\n",
    "    \n",
    "    points_1 = []\n",
    "    points_2 = []\n",
    "    for i in range(len(max_inliers)):\n",
    "        points_1.append([kp1[int(max_inliers[i][0])].pt[1], kp1[int(max_inliers[i][0])].pt[0]])\n",
    "        points_2.append([kp2[int(max_inliers[i][1])].pt[1], kp2[int(max_inliers[i][1])].pt[0]])\n",
    "    final_H = homography(points_1, points_2) \n",
    "\n",
    "    return final_H, max_inliers"
   ]
  },
  {
   "cell_type": "markdown",
   "metadata": {},
   "source": [
    "1. Handling unordered images\n",
    "   \n",
    "   use DAG graph to store the images order"
   ]
  },
  {
   "cell_type": "markdown",
   "metadata": {},
   "source": [
    "My method:\n",
    "- for all images, find the inliers between two images i and j.  Create a matrix named *map* to store the 'weight'. map[i][j] = len(inliers) / (8.0 + 0.3len(matches)) between i and j\n",
    "  \n",
    " - Create a DAG using *map* matrix. Each image is the node. For each imagei, create a line to the image j which map[i][j] is the biggest, which means for image i , image j is the most similar image.\n",
    "  \n",
    "- Then use DFS to find the order that including the most nodes."
   ]
  },
  {
   "cell_type": "code",
   "execution_count": 26,
   "metadata": {},
   "outputs": [],
   "source": [
    "import networkx as nx\n",
    "def dfs_longest_sequence(G, node, current_sequence, visited):\n",
    "    visited[node] = True\n",
    "    current_sequence.append(node)\n",
    "    max_sequence = current_sequence.copy()\n",
    "\n",
    "    for neighbor in G.successors(node):\n",
    "        if not visited[neighbor]:\n",
    "            new_sequence = dfs_longest_sequence(G, neighbor, current_sequence, visited)\n",
    "            if len(new_sequence) > len(max_sequence):\n",
    "                max_sequence = new_sequence\n",
    "\n",
    "    visited[node] = False\n",
    "    current_sequence.pop()\n",
    "    return max_sequence\n",
    "\n",
    "def DAG(map):\n",
    "    G = nx.DiGraph()\n",
    "\n",
    "    # 添加结点\n",
    "    N = map.shape[0]\n",
    "    for i in range(N):\n",
    "        G.add_node(i)\n",
    "    for i in range(N):\n",
    "        max_weight = -1\n",
    "        max_index = -1\n",
    "\n",
    "    # 找到结点 i 到权重最大的结点 j\n",
    "    for j in range(N):\n",
    "        if i != j and map[i][j] > max_weight:\n",
    "            max_weight = map[i][j]\n",
    "            max_index = j\n",
    "\n",
    "    if max_index != -1:\n",
    "        G.add_edge(i, max_index, weight=max_weight)\n",
    "\n",
    "\n",
    "    visited = [False] * N\n",
    "    longest_sequence = []\n",
    "    for i in range(N):\n",
    "        current_sequence = []\n",
    "        new_sequence = dfs_longest_sequence(G, i, current_sequence, visited)\n",
    "        if len(new_sequence) > len(longest_sequence):\n",
    "            longest_sequence = new_sequence\n",
    "\n",
    "    print(\"Longest Directed Sequence:\", longest_sequence)\n",
    "    print(\"Number of Nodes in Longest Sequence:\", len(longest_sequence))\n",
    "\n",
    "    '''\n",
    "    pos = nx.spring_layout(G)  # 定义结点位置\n",
    "    labels = {i: f\"image {i}\" for i in G.nodes()}\n",
    "    nx.draw(G, pos, with_labels=True, labels=labels, node_size=500, node_color=\"skyblue\", font_size=12, font_color=\"black\", arrows=True)\n",
    "    edge_labels = {(i, j): map[i][j] for i, j in G.edges()}\n",
    "    nx.draw_networkx_edge_labels(G, pos, edge_labels=edge_labels)\n",
    "    plt.title(\"Directed Graph\")\n",
    "    plt.show()\n",
    "    '''\n",
    "    \n",
    "    return longest_sequence"
   ]
  },
  {
   "cell_type": "code",
   "execution_count": 27,
   "metadata": {},
   "outputs": [],
   "source": [
    "#When use RANSAC between two images, add a threshold to judge if the two image need to be stitched.\n",
    "# That is if the len(inliers) > 8.0 + 0.3*len(matches)\n",
    "def stitch_order(all_kps, all_des, iteration_times):\n",
    "    '''\n",
    "    all_kps: a list contain all keypoints of each image. all_kps = [kp1, kp2, kp3, ...]\n",
    "    all_des: a list contain all descriptors of each image. all_des = [des1, des2, des3, ...]\n",
    "    iteration_times: the iteration times of RANSAC \n",
    "    '''\n",
    "    N = len(all_kps) # the number of unordered images\n",
    "    map = np.zeros((N, N)) # use matrix to store the images stitch weight\n",
    "\n",
    "    # for each image, find the best match image\n",
    "    for i in range(N):\n",
    "\n",
    "        kp_1 = all_kps[i]\n",
    "        des_1 = all_des[i]\n",
    "        print(i)\n",
    "        for j in range(N):\n",
    "            if j == i:\n",
    "                map[i][j] = 0  # the same image do not need stitch\n",
    "                continue\n",
    "            else:\n",
    "                print(j)\n",
    "                kp_2 = all_kps[j]\n",
    "                des_2 = all_des[j]\n",
    "                matches = match(des_1, des_2)\n",
    "                H, inliers = RANSAC_homography(kp_1, kp_2, matches, iteration_times)\n",
    "\n",
    "                #if len(inliers) > 8.0 + 0.3*len(matches):\n",
    "                map[i][j] = len(inliers) / (8.0 + 0.3*len(matches))\n",
    "                #print(f'image{i} and image{j} need stitch')\n",
    "                #else:\n",
    "                    #map[i][j] = 0\n",
    "    \n",
    "    order = DAG(map)\n",
    "    return order\n"
   ]
  },
  {
   "cell_type": "code",
   "execution_count": 28,
   "metadata": {},
   "outputs": [
    {
     "name": "stdout",
     "output_type": "stream",
     "text": [
      "0\n",
      "1\n",
      "2\n",
      "1\n",
      "0\n",
      "2\n",
      "2\n",
      "0\n",
      "1\n",
      "Longest Directed Sequence: [2, 1]\n",
      "Number of Nodes in Longest Sequence: 2\n"
     ]
    },
    {
     "data": {
      "text/plain": [
       "[2, 1]"
      ]
     },
     "execution_count": 28,
     "metadata": {},
     "output_type": "execute_result"
    }
   ],
   "source": [
    "all_kps = [kp1, kp2, kp3]\n",
    "all_des = [des1, des2, des3]\n",
    "order = stitch_order(all_kps, all_des, 10000)\n",
    "order"
   ]
  },
  {
   "cell_type": "markdown",
   "metadata": {},
   "source": [
    "Then just use the order to stitch the corresponding image using the method in part5."
   ]
  }
 ],
 "metadata": {
  "kernelspec": {
   "display_name": "nus",
   "language": "python",
   "name": "python3"
  },
  "language_info": {
   "codemirror_mode": {
    "name": "ipython",
    "version": 3
   },
   "file_extension": ".py",
   "mimetype": "text/x-python",
   "name": "python",
   "nbconvert_exporter": "python",
   "pygments_lexer": "ipython3",
   "version": "3.9.17"
  },
  "orig_nbformat": 4
 },
 "nbformat": 4,
 "nbformat_minor": 2
}
